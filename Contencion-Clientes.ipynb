{
 "cells": [
  {
   "cell_type": "markdown",
   "metadata": {},
   "source": [
    "# Dirección de Riesgos: Contención Oportuna\n",
    "\n",
    "## Caso de Estudio: Banco de Taiwan"
   ]
  },
  {
   "cell_type": "markdown",
   "metadata": {},
   "source": [
    "## Definición del problema real\n",
    "\n",
    "La Dirección de Riesgos del Banco de Taiwan generó recientemente una alerta sobre el incremento sostenido de los indicadores de cartera, especialmente en el producto de tarjetas de crédito, pasando del 6.66% al 8.93%.\n",
    "\n",
    "Desde el departamento de Inteligencia de Negocios y Analítica se desarrolla un proyecto para contener a los clientes en etapas de mora tempranas, identificando oportunamente el momento en que estos empezarán a caer en mora y desarrollando estrategias que le faciliten a los clientes los pagos de sus obligaciones.\n",
    "\n",
    "El objetivo del proyecto es construir una herramienta que permita al Banco de Taiwan identificar a estos clientes antes de que caigan en mora. \n",
    "\n",
    "* Como criterio de éxito desde el negocio, se espera que de cada 100 clientes identificados y contactados, se logre evitar que 80 de ellos caigan en mora.\n",
    "* Como criterio de éxito desde la minería de datos, se espera una sensibilidad de más del 75%. Esto debido a la importancia de ser capaz de identificar a la mayoría de clientes que realmente caerán en mora."
   ]
  },
  {
   "cell_type": "markdown",
   "metadata": {},
   "source": [
    "## Definición del problema en términos de los datos\n",
    "\n",
    "Los datos utilizados para el proyecto provienen de [default of credit card clients Data Set ](https://archive.ics.uci.edu/ml/datasets/default+of+credit+card+clients).\n",
    "\n",
    "Este conjunto de datos contiene 30.000 clientes definidos por 24 variables, explicadas a continuación:\n",
    "\n",
    "* Valor del crédito, en dólares taiwaneses\n",
    "* Género (1 = Masculino; 2 = Femenino)\n",
    "* Nivel educativo (1 = Posgrado; 2 = Universitario; 3 = Bachillerato; 4 = Otros)\n",
    "* Estado civil (1 = Casado; 2 = Soltero; 3 = Otros)\n",
    "* Edad, en años.\n",
    "* 6 valores que representan el comportamiento de pago del cliente. Corresponde al período comprendido entre Abril (X11) y Septiembre de 2005 (X6). Es una variable cualitativa. (-1 = Pago a tiempo; 0 = Pago durante el mes; 1 = Pago retrasado 1 mes; 2 = Pago retrasado 2 meses; ... ; 9 = Pago retrasado 9 o más meses)\n",
    "* 6 valores que representan los valores de factura en los mismos períodos representados anteriormente\n",
    "* 6 valores que representan los valores pagados en los mismos períodos representados anteriormente\n",
    "* Variable binaria que indica si el cliente cae en mora al siguiente mes (1 = Si; 0 = No)\n",
    "\n",
    "El problema presentado es un problema de clasificación binaria. Se realizará una exploración inicial de los datos para luego pasar a la fase de modelamiento.\n",
    "\n",
    "Para la modelación se separará el conjunto de datos en dos:\n",
    "\n",
    "* Conjunto A: se seleccionará aleatoriamente el 70% de las observaciones. Estas a su vez serán utilizadas en la validación cruzada de cada modelo para selecionar la mejor combinación de hiperparámetros de cada modelo.\n",
    "* Conjunto B: es el 30% de los datos restantes. Los modelos nunca conocerán estos datos, y estos serán utilizados para estimar el error real de los modelos en un ambiente productivo. Con las métricas de error pronosticadas por este conjunto es que se seleccionará el modelo final."
   ]
  },
  {
   "cell_type": "markdown",
   "metadata": {},
   "source": [
    "## Exploración"
   ]
  },
  {
   "cell_type": "code",
   "execution_count": 29,
   "metadata": {},
   "outputs": [],
   "source": [
    "#Carga de los datos\n",
    "#install.packages('readxl')\n",
    "require(readxl)\n",
    "\n",
    "#Se realiza la importación del archivo .xls. La primera fila se omite ya que en la segunda empiezan los encabezados.\n",
    "cc_data <- read_xls(path = 'default of credit card clients.xls', skip = 1)"
   ]
  },
  {
   "cell_type": "code",
   "execution_count": 30,
   "metadata": {},
   "outputs": [],
   "source": [
    "#Se realiza un renombramiento de las columnas para hacerlas más fáciles de trabajar\n",
    "colnames(cc_data) <- c(\"id\", \"valor.credito\", \"genero\", \"nivel.educativo\", \"estado.civil\", \"edad\",\n",
    "                       \"pago.sep\", \"pago.ago\", \"pago.jul\", \"pago.jun\", \"pago.may\", \"pago.abr\",\n",
    "                       \"factura.sep\", \"factura.ago\", \"factura.jul\", \"factura.jun\", \"factura.may\", \"factura.abr\",\n",
    "                       \"pagado.sep\", \"pagado.ago\", \"pagado.jul\", \"pagado.jun\", \"pagado.may\", \"pagado.abr\", \"default\")"
   ]
  },
  {
   "cell_type": "code",
   "execution_count": 31,
   "metadata": {
    "scrolled": true
   },
   "outputs": [
    {
     "name": "stdout",
     "output_type": "stream",
     "text": [
      "[1] \"Tabla de Proporciones: Clientes en Default (0: al día; 1: en default)\"\n"
     ]
    },
    {
     "data": {
      "text/plain": [
       "\n",
       "    0     1 \n",
       "77.88 22.12 "
      ]
     },
     "metadata": {},
     "output_type": "display_data"
    },
    {
     "name": "stdout",
     "output_type": "stream",
     "text": [
      "[1] \"Resumen general de las variables\"\n"
     ]
    },
    {
     "data": {
      "text/plain": [
       "       id        valor.credito         genero      nivel.educativo\n",
       " Min.   :    1   Min.   :  10000   Min.   :1.000   Min.   :0.000  \n",
       " 1st Qu.: 7501   1st Qu.:  50000   1st Qu.:1.000   1st Qu.:1.000  \n",
       " Median :15000   Median : 140000   Median :2.000   Median :2.000  \n",
       " Mean   :15000   Mean   : 167484   Mean   :1.604   Mean   :1.853  \n",
       " 3rd Qu.:22500   3rd Qu.: 240000   3rd Qu.:2.000   3rd Qu.:2.000  \n",
       " Max.   :30000   Max.   :1000000   Max.   :2.000   Max.   :6.000  \n",
       "  estado.civil        edad          pago.sep          pago.ago      \n",
       " Min.   :0.000   Min.   :21.00   Min.   :-2.0000   Min.   :-2.0000  \n",
       " 1st Qu.:1.000   1st Qu.:28.00   1st Qu.:-1.0000   1st Qu.:-1.0000  \n",
       " Median :2.000   Median :34.00   Median : 0.0000   Median : 0.0000  \n",
       " Mean   :1.552   Mean   :35.49   Mean   :-0.0167   Mean   :-0.1338  \n",
       " 3rd Qu.:2.000   3rd Qu.:41.00   3rd Qu.: 0.0000   3rd Qu.: 0.0000  \n",
       " Max.   :3.000   Max.   :79.00   Max.   : 8.0000   Max.   : 8.0000  \n",
       "    pago.jul          pago.jun          pago.may          pago.abr      \n",
       " Min.   :-2.0000   Min.   :-2.0000   Min.   :-2.0000   Min.   :-2.0000  \n",
       " 1st Qu.:-1.0000   1st Qu.:-1.0000   1st Qu.:-1.0000   1st Qu.:-1.0000  \n",
       " Median : 0.0000   Median : 0.0000   Median : 0.0000   Median : 0.0000  \n",
       " Mean   :-0.1662   Mean   :-0.2207   Mean   :-0.2662   Mean   :-0.2911  \n",
       " 3rd Qu.: 0.0000   3rd Qu.: 0.0000   3rd Qu.: 0.0000   3rd Qu.: 0.0000  \n",
       " Max.   : 8.0000   Max.   : 8.0000   Max.   : 8.0000   Max.   : 8.0000  \n",
       "  factura.sep       factura.ago      factura.jul       factura.jun     \n",
       " Min.   :-165580   Min.   :-69777   Min.   :-157264   Min.   :-170000  \n",
       " 1st Qu.:   3559   1st Qu.:  2985   1st Qu.:   2666   1st Qu.:   2327  \n",
       " Median :  22382   Median : 21200   Median :  20089   Median :  19052  \n",
       " Mean   :  51223   Mean   : 49179   Mean   :  47013   Mean   :  43263  \n",
       " 3rd Qu.:  67091   3rd Qu.: 64006   3rd Qu.:  60165   3rd Qu.:  54506  \n",
       " Max.   : 964511   Max.   :983931   Max.   :1664089   Max.   : 891586  \n",
       "  factura.may      factura.abr        pagado.sep       pagado.ago     \n",
       " Min.   :-81334   Min.   :-339603   Min.   :     0   Min.   :      0  \n",
       " 1st Qu.:  1763   1st Qu.:   1256   1st Qu.:  1000   1st Qu.:    833  \n",
       " Median : 18105   Median :  17071   Median :  2100   Median :   2009  \n",
       " Mean   : 40311   Mean   :  38872   Mean   :  5664   Mean   :   5921  \n",
       " 3rd Qu.: 50191   3rd Qu.:  49198   3rd Qu.:  5006   3rd Qu.:   5000  \n",
       " Max.   :927171   Max.   : 961664   Max.   :873552   Max.   :1684259  \n",
       "   pagado.jul       pagado.jun       pagado.may         pagado.abr      \n",
       " Min.   :     0   Min.   :     0   Min.   :     0.0   Min.   :     0.0  \n",
       " 1st Qu.:   390   1st Qu.:   296   1st Qu.:   252.5   1st Qu.:   117.8  \n",
       " Median :  1800   Median :  1500   Median :  1500.0   Median :  1500.0  \n",
       " Mean   :  5226   Mean   :  4826   Mean   :  4799.4   Mean   :  5215.5  \n",
       " 3rd Qu.:  4505   3rd Qu.:  4013   3rd Qu.:  4031.5   3rd Qu.:  4000.0  \n",
       " Max.   :896040   Max.   :621000   Max.   :426529.0   Max.   :528666.0  \n",
       "    default      \n",
       " Min.   :0.0000  \n",
       " 1st Qu.:0.0000  \n",
       " Median :0.0000  \n",
       " Mean   :0.2212  \n",
       " 3rd Qu.:0.0000  \n",
       " Max.   :1.0000  "
      ]
     },
     "metadata": {},
     "output_type": "display_data"
    }
   ],
   "source": [
    "#Revisión de la proporción de casos de default: 22.12%\n",
    "print(\"Tabla de Proporciones: Clientes en Default (0: al día; 1: en default)\")\n",
    "round(prop.table(table(cc_data$default))*100, 2)\n",
    "\n",
    "#Resumen general de las variables\n",
    "print(\"Resumen general de las variables\")\n",
    "summary(cc_data)\n",
    "\n",
    "#Importación de paquetes para el análisis exploratorio\n",
    "require(dplyr)\n",
    "require(ggplot2)\n",
    "require(moments)\n",
    "options(repr.plot.width = 4, repr.plot.height = 3)"
   ]
  },
  {
   "cell_type": "code",
   "execution_count": 32,
   "metadata": {
    "scrolled": true
   },
   "outputs": [
    {
     "name": "stdout",
     "output_type": "stream",
     "text": [
      "[1] \"Asimetría:\"\n"
     ]
    },
    {
     "data": {
      "text/html": [
       "0.992817316482011"
      ],
      "text/latex": [
       "0.992817316482011"
      ],
      "text/markdown": [
       "0.992817316482011"
      ],
      "text/plain": [
       "[1] 0.9928173"
      ]
     },
     "metadata": {},
     "output_type": "display_data"
    },
    {
     "data": {},
     "metadata": {},
     "output_type": "display_data"
    },
    {
     "data": {},
     "metadata": {},
     "output_type": "display_data"
    },
    {
     "data": {
      "image/png": "[encoded data removed]",
      "text/plain": [
       "plot without title"
      ]
     },
     "metadata": {},
     "output_type": "display_data"
    },
    {
     "data": {
      "image/png": "[encoded data removed]",
      "text/plain": [
       "plot without title"
      ]
     },
     "metadata": {},
     "output_type": "display_data"
    }
   ],
   "source": [
    "#Análisis del valor del crédito\n",
    "print(\"Asimetría:\")\n",
    "skewness(cc_data$valor.credito)\n",
    "ggplot(cc_data, aes(x = valor.credito, fill = as.factor(default))) + geom_density(alpha = .5)\n",
    "ggplot(cc_data, aes(x = log(valor.credito), fill = as.factor(default))) + geom_density(alpha = .5)\n",
    "\n",
    "#El valor del crédito muestra una leve asimetría la cual podría corregirse mediante una transformación logarítmica\n",
    "cc_data <- mutate(cc_data, log.valor.credito = log(valor.credito))"
   ]
  },
  {
   "cell_type": "code",
   "execution_count": 33,
   "metadata": {
    "scrolled": true
   },
   "outputs": [
    {
     "data": {},
     "metadata": {},
     "output_type": "display_data"
    },
    {
     "data": {},
     "metadata": {},
     "output_type": "display_data"
    },
    {
     "data": {
      "image/png": "[encoded data removed]",
      "text/plain": [
       "plot without title"
      ]
     },
     "metadata": {},
     "output_type": "display_data"
    },
    {
     "data": {
      "image/png": "[encoded data removed]",
      "text/plain": [
       "plot without title"
      ]
     },
     "metadata": {},
     "output_type": "display_data"
    }
   ],
   "source": [
    "#Análisis del género\n",
    "ggplot(cc_data, aes(x = as.factor(genero), fill = as.factor(default))) + geom_bar(alpha = .5)\n",
    "ggplot(cc_data, aes(x = as.factor(genero), fill = as.factor(default))) + geom_bar(alpha = .5, position = 'fill')\n",
    "\n",
    "#Hay más mujeres que hombres. Parece que los hombres pagan mejor, pero no parece existir una diferencia significativa."
   ]
  },
  {
   "cell_type": "code",
   "execution_count": 34,
   "metadata": {
    "scrolled": true
   },
   "outputs": [
    {
     "data": {},
     "metadata": {},
     "output_type": "display_data"
    },
    {
     "data": {},
     "metadata": {},
     "output_type": "display_data"
    },
    {
     "data": {
      "image/png": "[encoded data removed]",
      "text/plain": [
       "plot without title"
      ]
     },
     "metadata": {},
     "output_type": "display_data"
    },
    {
     "data": {},
     "metadata": {},
     "output_type": "display_data"
    },
    {
     "data": {
      "image/png": "[encoded data removed]",
      "text/plain": [
       "plot without title"
      ]
     },
     "metadata": {},
     "output_type": "display_data"
    },
    {
     "data": {},
     "metadata": {},
     "output_type": "display_data"
    },
    {
     "data": {
      "image/png": "[encoded data removed]",
      "text/plain": [
       "plot without title"
      ]
     },
     "metadata": {},
     "output_type": "display_data"
    },
    {
     "data": {
      "image/png": "[encoded data removed]",
      "text/plain": [
       "plot without title"
      ]
     },
     "metadata": {},
     "output_type": "display_data"
    }
   ],
   "source": [
    "#Análisis del nivel educativo\n",
    "ggplot(cc_data, aes(x = as.factor(nivel.educativo), fill = as.factor(default))) + geom_bar(alpha = .5)\n",
    "ggplot(cc_data, aes(x = as.factor(nivel.educativo), fill = as.factor(default))) + geom_bar(alpha = .5, position = 'fill')\n",
    "\n",
    "#Las categorías 0, 5 y 6 no están definidas en la base de datos, se agruparán dentro de la categoría 4 - Otros\n",
    "cc_data <- mutate(cc_data, nivel.educativo = ifelse(nivel.educativo %in% c(0, 5, 6), 4, nivel.educativo))\n",
    "\n",
    "#Se visualiza la distribución de la variable mutada\n",
    "ggplot(cc_data, aes(x = as.factor(nivel.educativo), fill = as.factor(default))) + geom_bar(alpha = .5)\n",
    "ggplot(cc_data, aes(x = as.factor(nivel.educativo), fill = as.factor(default))) + geom_bar(alpha = .5, position = 'fill')"
   ]
  },
  {
   "cell_type": "code",
   "execution_count": 35,
   "metadata": {
    "scrolled": true
   },
   "outputs": [
    {
     "data": {},
     "metadata": {},
     "output_type": "display_data"
    },
    {
     "data": {},
     "metadata": {},
     "output_type": "display_data"
    },
    {
     "data": {
      "image/png": "[encoded data removed]",
      "text/plain": [
       "plot without title"
      ]
     },
     "metadata": {},
     "output_type": "display_data"
    },
    {
     "data": {
      "image/png": "[encoded data removed]",
      "text/plain": [
       "plot without title"
      ]
     },
     "metadata": {},
     "output_type": "display_data"
    }
   ],
   "source": [
    "#Análisis del estado civil\n",
    "ggplot(cc_data, aes(x = as.factor(estado.civil), fill = as.factor(default))) + geom_bar(alpha = .5)\n",
    "ggplot(cc_data, aes(x = as.factor(estado.civil), fill = as.factor(default))) + geom_bar(alpha = .5, position = 'fill')\n",
    "\n",
    "#La categoría 0 del estado civil no está definida en la descripción de la base de datos. Se agrupan en la categoría 3 - Otros.\n",
    "cc_data <- mutate(cc_data, estado.civil = ifelse(estado.civil == 0, 3, estado.civil))"
   ]
  },
  {
   "cell_type": "code",
   "execution_count": 79,
   "metadata": {},
   "outputs": [
    {
     "data": {},
     "metadata": {},
     "output_type": "display_data"
    },
    {
     "data": {},
     "metadata": {},
     "output_type": "display_data"
    },
    {
     "data": {
      "image/png": "[encoded data removed]",
      "text/plain": [
       "plot without title"
      ]
     },
     "metadata": {},
     "output_type": "display_data"
    },
    {
     "data": {},
     "metadata": {},
     "output_type": "display_data"
    },
    {
     "data": {
      "image/png": "[encoded data removed]",
      "text/plain": [
       "plot without title"
      ]
     },
     "metadata": {},
     "output_type": "display_data"
    },
    {
     "data": {
      "image/png": "[encoded data removed]",
      "text/plain": [
       "plot without title"
      ]
     },
     "metadata": {},
     "output_type": "display_data"
    }
   ],
   "source": [
    "#Análisis de la edad\n",
    "ggplot(cc_data, aes(x = edad, fill = as.factor(default))) + geom_density(alpha = .5)\n",
    "ggplot(cc_data, aes(x = log(edad), fill = as.factor(default))) + geom_density(alpha = .5)\n",
    "\n",
    "#Se evidencia que hay una porción de la edad que tiene un peor cumplimiento.\n",
    "#Se propone dentro del preprocesamiento hacer una discretización de la variable en 3 categorías:\n",
    "#Joven: < 25; Adulto: 25 - 40; Adulto Mayor: > 40\n",
    "cc_data <- mutate(cc_data, edad.disc = factor(case_when(edad < 25 ~ 'joven',\n",
    "                                                        between(edad, 25, 40) ~ 'adulto',\n",
    "                                                        edad > 40 ~ 'adulto mayor')))\n",
    "\n",
    "ggplot(cc_data, aes(x = edad.disc, fill = as.factor(default))) + geom_bar(alpha = .5, position = 'fill')"
   ]
  },
  {
   "cell_type": "code",
   "execution_count": 39,
   "metadata": {},
   "outputs": [
    {
     "data": {},
     "metadata": {},
     "output_type": "display_data"
    },
    {
     "data": {},
     "metadata": {},
     "output_type": "display_data"
    },
    {
     "data": {
      "image/png": "[encoded data removed]",
      "text/plain": [
       "plot without title"
      ]
     },
     "metadata": {},
     "output_type": "display_data"
    },
    {
     "data": {},
     "metadata": {},
     "output_type": "display_data"
    },
    {
     "data": {
      "image/png": "[encoded data removed]",
      "text/plain": [
       "plot without title"
      ]
     },
     "metadata": {},
     "output_type": "display_data"
    },
    {
     "data": {},
     "metadata": {},
     "output_type": "display_data"
    },
    {
     "data": {
      "image/png": "[encoded data removed]",
      "text/plain": [
       "plot without title"
      ]
     },
     "metadata": {},
     "output_type": "display_data"
    },
    {
     "data": {},
     "metadata": {},
     "output_type": "display_data"
    },
    {
     "data": {
      "image/png": "[encoded data removed]",
      "text/plain": [
       "plot without title"
      ]
     },
     "metadata": {},
     "output_type": "display_data"
    },
    {
     "data": {},
     "metadata": {},
     "output_type": "display_data"
    },
    {
     "data": {
      "image/png": "[encoded data removed]",
      "text/plain": [
       "plot without title"
      ]
     },
     "metadata": {},
     "output_type": "display_data"
    },
    {
     "data": {},
     "metadata": {},
     "output_type": "display_data"
    },
    {
     "data": {
      "image/png": "[encoded data removed]",
      "text/plain": [
       "plot without title"
      ]
     },
     "metadata": {},
     "output_type": "display_data"
    },
    {
     "data": {
      "image/png": "[encoded data removed]",
      "text/plain": [
       "plot without title"
      ]
     },
     "metadata": {},
     "output_type": "display_data"
    }
   ],
   "source": [
    "#Análisis de las variables del comportamiento de pago\n",
    "ggplot(cc_data, aes(x = as.factor(pago.abr), fill = as.factor(default))) + geom_bar(alpha = .5)\n",
    "ggplot(cc_data, aes(x = as.factor(pago.may), fill = as.factor(default))) + geom_bar(alpha = .5)\n",
    "ggplot(cc_data, aes(x = as.factor(pago.jun), fill = as.factor(default))) + geom_bar(alpha = .5)\n",
    "ggplot(cc_data, aes(x = as.factor(pago.jul), fill = as.factor(default))) + geom_bar(alpha = .5)\n",
    "ggplot(cc_data, aes(x = as.factor(pago.ago), fill = as.factor(default))) + geom_bar(alpha = .5)\n",
    "ggplot(cc_data, aes(x = as.factor(pago.sep), fill = as.factor(default))) + geom_bar(alpha = .5)\n",
    "#La variable de pago para los diferentes meses va desde -2 a 8; mientras que en la definición de pagos se dice que va de\n",
    "#-1 a 9. Se hará la corrección, sumándole 1 a cada variable.\n",
    "\n",
    "cc_data <- mutate(cc_data, pago.abr = pago.abr + 1,\n",
    "                           pago.may = pago.may + 1,\n",
    "                           pago.jun = pago.jun + 1,\n",
    "                           pago.jul = pago.jul + 1,\n",
    "                           pago.ago = pago.ago + 1,\n",
    "                           pago.sep = pago.sep + 1)\n",
    "\n",
    "ggplot(cc_data, aes(x = as.factor(pago.abr), fill = as.factor(default))) + geom_bar(alpha = .5)"
   ]
  },
  {
   "cell_type": "code",
   "execution_count": 40,
   "metadata": {},
   "outputs": [
    {
     "data": {},
     "metadata": {},
     "output_type": "display_data"
    },
    {
     "data": {},
     "metadata": {},
     "output_type": "display_data"
    },
    {
     "data": {
      "image/png": "[encoded data removed]",
      "text/plain": [
       "plot without title"
      ]
     },
     "metadata": {},
     "output_type": "display_data"
    },
    {
     "data": {},
     "metadata": {},
     "output_type": "display_data"
    },
    {
     "data": {
      "image/png": "[encoded data removed]",
      "text/plain": [
       "plot without title"
      ]
     },
     "metadata": {},
     "output_type": "display_data"
    },
    {
     "data": {},
     "metadata": {},
     "output_type": "display_data"
    },
    {
     "data": {
      "image/png": "[encoded data removed]",
      "text/plain": [
       "plot without title"
      ]
     },
     "metadata": {},
     "output_type": "display_data"
    },
    {
     "data": {},
     "metadata": {},
     "output_type": "display_data"
    },
    {
     "data": {
      "image/png": "[encoded data removed]",
      "text/plain": [
       "plot without title"
      ]
     },
     "metadata": {},
     "output_type": "display_data"
    },
    {
     "data": {},
     "metadata": {},
     "output_type": "display_data"
    },
    {
     "data": {
      "image/png": "[encoded data removed]",
      "text/plain": [
       "plot without title"
      ]
     },
     "metadata": {},
     "output_type": "display_data"
    },
    {
     "data": {},
     "metadata": {},
     "output_type": "display_data"
    },
    {
     "data": {
      "image/png": "[encoded data removed]",
      "text/plain": [
       "plot without title"
      ]
     },
     "metadata": {},
     "output_type": "display_data"
    },
    {
     "data": {
      "image/png": "[encoded data removed]",
      "text/plain": [
       "plot without title"
      ]
     },
     "metadata": {},
     "output_type": "display_data"
    }
   ],
   "source": [
    "#Análisis de las variables de valor factura\n",
    "ggplot(cc_data, aes(x = as.factor(default), y = factura.abr)) + geom_boxplot()\n",
    "ggplot(cc_data, aes(x = as.factor(default), y = factura.may)) + geom_boxplot()\n",
    "ggplot(cc_data, aes(x = as.factor(default), y = factura.jun)) + geom_boxplot()\n",
    "ggplot(cc_data, aes(x = as.factor(default), y = factura.jul)) + geom_boxplot()\n",
    "ggplot(cc_data, aes(x = as.factor(default), y = factura.ago)) + geom_boxplot()\n",
    "ggplot(cc_data, aes(x = as.factor(default), y = factura.sep)) + geom_boxplot()\n",
    "\n",
    "#Se observa que en general la distribución de esta variable es asimétrica positivamente y concentrada alrededor de 0.\n",
    "#También se observan varios valores negativos, los cuales no tienen sentido dentro del contexto del valor de la factura.\n",
    "#Estos valores negativos se transforman en 0.\n",
    "\n",
    "cc_data <- mutate(cc_data, factura.abr = ifelse(factura.abr < 0, 0, factura.abr),\n",
    "                           factura.may = ifelse(factura.may < 0, 0, factura.may),\n",
    "                           factura.jun = ifelse(factura.jun < 0, 0, factura.jun),\n",
    "                           factura.jul = ifelse(factura.jul < 0, 0, factura.jul),\n",
    "                           factura.ago = ifelse(factura.ago < 0, 0, factura.ago),\n",
    "                           factura.sep = ifelse(factura.sep < 0, 0, factura.sep))\n",
    "\n",
    "ggplot(cc_data, aes(x = as.factor(default), y = factura.abr)) + geom_boxplot()"
   ]
  },
  {
   "cell_type": "code",
   "execution_count": 52,
   "metadata": {},
   "outputs": [
    {
     "data": {},
     "metadata": {},
     "output_type": "display_data"
    },
    {
     "data": {},
     "metadata": {},
     "output_type": "display_data"
    },
    {
     "data": {
      "image/png": "[encoded data removed]",
      "text/plain": [
       "plot without title"
      ]
     },
     "metadata": {},
     "output_type": "display_data"
    },
    {
     "data": {
      "image/png": "[encoded data removed]",
      "text/plain": [
       "plot without title"
      ]
     },
     "metadata": {},
     "output_type": "display_data"
    }
   ],
   "source": [
    "#Análisis de los valores pagados\n",
    "ggplot(cc_data, aes(x = pagado.abr, fill = as.factor(default))) + geom_density(alpha = .5)\n",
    "ggplot(cc_data, aes(x = log(1+pagado.abr), fill = as.factor(default))) + geom_density(alpha = .5)"
   ]
  },
  {
   "cell_type": "markdown",
   "metadata": {},
   "source": [
    "## Metodologías Seleccionadas\n",
    "\n",
    "Para la modelación se seleccionaron las siguientes metodologías, empezando por las más sencillas y computacionalmente económicas y progresivamente evolucionando hacia las metodologías más complejas. La idea con esta ordenación es conservar un equilibrio entre *precisión* y *complejidad* del modelo, con el objetivo de obtener el modelo más simple que cumpla con los requisitos de precisión mencionados anteriormente.\n",
    "\n",
    "### 1 - OneR\n",
    "\n",
    "One-Rule o OneR, es posiblemente el algoritmo de clasificación más sencillo. Su objetivo es consolidar toda la lógica de clasificación en una única regla, fácil de entender e interpretar. El algoritmo de OneR crea la partición de los posibles valores de una única variable que minimiza el error total.\n",
    "\n",
    "### 2 - Regresión Logística\n",
    "\n",
    "Hace parte de la familia de modelos lineales generalizados. A cada observación le asigna un puntaje interpretable como la probabilidad de que la observación corresponda a la categoría positiva, en este caso default. El modelo genera una frontera de separación lineal entre las clases.\n",
    "\n",
    "### 3 - k Vecinos más Cercanos\n",
    "\n",
    "Este algoritmo identifica los k registros o clientes más similares a cada observación y realiza su voto por mayoría. Si la mayoría de sus \"vecinos\" cayeron en default, se clasifica como default. Debido a que esta votación se hace por mayoría, es recomendado utilizar una cantidad impar de vecinos.\n",
    "\n",
    "### 4 - Árboles de Decisión\n",
    "\n",
    "Los árboles de decisión generan un conjunto de reglas, en forma de una partición rectangular del espacio, para clasificar a los clientes. De esta manera se forman reglas como: \"Si es hombre, tiene más de 30 años y el valor pagado en julio fue inferior a 200, entonces el cliente caerá en default\".\n",
    "\n",
    "### 5 - AdaBoost\n",
    "\n",
    "Es un ensamble de árboles de decisión que utiliza una estrategia de hacer que cada árbol generado se enfoque en corregir los errores de los árboles previos.\n",
    "\n",
    "### 6 - Máquinas de Vector Soporte con Kernel de Base Radial\n",
    "\n",
    "Este algoritmo utiliza un kernel que lleva los datos a espacios característicos de más dimensiones y allí genera la separación lineal, la cual puede resultar siendo una separación no lineal en el espacio característico original."
   ]
  },
  {
   "cell_type": "markdown",
   "metadata": {},
   "source": [
    "## Aplicación de las Metodologías y Análisis de Resultados"
   ]
  },
  {
   "cell_type": "code",
   "execution_count": 85,
   "metadata": {
    "scrolled": true
   },
   "outputs": [],
   "source": [
    "require(caret)\n",
    "\n",
    "#Creación de los conjuntos A y B para validación cruzada y medición de error, respectivamente.\n",
    "indexes_A <- sample(1:nrow(cc_data_clean), 0.7 * nrow(cc_data_clean))\n",
    "setA <- cc_data_clean[indexes_A,]\n",
    "setB <- cc_data_clean[-indexes_A,]\n",
    "\n",
    "#Creación de los folds para la validación cruzada. Se crean en este paso para que las particiones sean las mismas para\n",
    "#todos los modelos.\n",
    "kFolds <- createFolds(setA$default, k = 10)\n",
    "\n",
    "#Creación de la función que mide la métrica a utilizar para la selección de los modelos, acorde al caso de negocio\n",
    "#En este caso, se busca maximizar la sensibilidad sin dejar de lado la precisión, por lo cual usaremos una métrica F3\n",
    "fB <- function (data, lev = NULL, model = NULL, B = 3) {\n",
    "  precision <- posPredValue(data$pred, data$obs, positive = \"1\")\n",
    "  recall  <- sensitivity(data$pred, data$obs, postive = \"1\")\n",
    "  fB_val <- ((1 + B^2) * precision * recall) / (B^2 * precision + recall)\n",
    "  names(fB_val) <- c(\"FB\")\n",
    "  return(fB_val)\n",
    "} \n",
    "\n",
    "#Creación del objeto trainControl a ser utilizado en los modelos\n",
    "control <- trainControl(method = 'cv', \n",
    "                        number = 10, \n",
    "                        summaryFunction = fB,\n",
    "                        index = kFolds)\n",
    "\n",
    "#Función para resumir los valores de interés para comparar modelos\n",
    "result.summary <- function(model){\n",
    "    predictions <- predict(model, setB)\n",
    "    conf_matrix <- round(prop.table(table(predictions, setB$default))*100, 2)\n",
    "    accuracy <- (conf_matrix[1,1] + conf_matrix[2,2]) / sum(conf_matrix)\n",
    "    sensitivity <- conf_matrix[2,2] / sum(conf_matrix[,2])\n",
    "    f3 <- 10 * accuracy * sensitivity / (9 * accuracy + sensitivity)\n",
    "    return(list(Matrix = conf_matrix, Accuracy = accuracy, Sensitivity = sensitivity, F3_Measure = f3))\n",
    "}"
   ]
  },
  {
   "cell_type": "code",
   "execution_count": 87,
   "metadata": {},
   "outputs": [],
   "source": [
    "#One R\n",
    "model.oner <- train(default ~ log.valor.credito + genero + nivel.educativo + estado.civil + edad.disc + pago.sep + pago.ago + \n",
    "                    pago.jul + pago.jun + pago.may + pago.abr + factura.sep + factura.ago + factura.jul + factura.jun + \n",
    "                    factura.may + factura.abr + pagado.sep + pagado.ago + pagado.jul + pagado.jun + pagado.may + pagado.abr, \n",
    "                    data = setA, \n",
    "                    trControl = control, \n",
    "                    metric = 'FB',\n",
    "                    method = 'OneR',\n",
    "                    preProcess = c('nzv'))"
   ]
  },
  {
   "cell_type": "code",
   "execution_count": 88,
   "metadata": {},
   "outputs": [
    {
     "data": {
      "text/plain": [
       "$Matrix\n",
       "           \n",
       "predictions     0     1\n",
       "          0 75.31 16.41\n",
       "          1  2.43  5.85\n",
       "\n",
       "$Accuracy\n",
       "[1] 0.8116\n",
       "\n",
       "$Sensitivity\n",
       "[1] 0.2628032\n",
       "\n",
       "$F3_Measure\n",
       "[1] 0.2818625\n"
      ]
     },
     "metadata": {},
     "output_type": "display_data"
    }
   ],
   "source": [
    "result.summary(model.oner)\n",
    "\n",
    "#OneR muestra un desempeño sorprendentemente bueno en precisión. Sin embargo, el objetivo principal de este problema es\n",
    "#maximizar la sensibilidad, que solo da de 0.26. Se utiliza la medida F3 para obtener un balance entre precisión y\n",
    "#sensibilidad, dándole más peso a la última."
   ]
  },
  {
   "cell_type": "code",
   "execution_count": 89,
   "metadata": {},
   "outputs": [
    {
     "name": "stderr",
     "output_type": "stream",
     "text": [
      "Warning message:\n",
      "\"glm.fit: fitted probabilities numerically 0 or 1 occurred\""
     ]
    }
   ],
   "source": [
    "#Regresión Logística\n",
    "model.logit <- train(default ~ log.valor.credito + genero + nivel.educativo + estado.civil + edad.disc + pago.sep + pago.ago + \n",
    "                     pago.jul + pago.jun + pago.may + pago.abr + factura.sep + factura.ago + factura.jul + factura.jun + \n",
    "                     factura.may + factura.abr + pagado.sep + pagado.ago + pagado.jul + pagado.jun + pagado.may + pagado.abr, \n",
    "                     data = setA, \n",
    "                     trControl = control, \n",
    "                     metric = 'FB',\n",
    "                     method = 'glm',\n",
    "                     family = 'binomial',\n",
    "                     preProcess = c('nzv'))"
   ]
  },
  {
   "cell_type": "code",
   "execution_count": 90,
   "metadata": {},
   "outputs": [
    {
     "data": {
      "text/plain": [
       "$Matrix\n",
       "           \n",
       "predictions     0     1\n",
       "          0 74.43 15.07\n",
       "          1  3.31  7.19\n",
       "\n",
       "$Accuracy\n",
       "[1] 0.8162\n",
       "\n",
       "$Sensitivity\n",
       "[1] 0.3230009\n",
       "\n",
       "$F3_Measure\n",
       "[1] 0.3437739\n"
      ]
     },
     "metadata": {},
     "output_type": "display_data"
    }
   ],
   "source": [
    "result.summary(model.logit)\n",
    "\n",
    "#La regresión logística muestra una precisión similar a OneR, pero un incremento sustancial en la sensibilidad y en la F3."
   ]
  },
  {
   "cell_type": "code",
   "execution_count": 82,
   "metadata": {
    "scrolled": true
   },
   "outputs": [],
   "source": [
    "#kNN\n",
    "model.knn <- train(default ~ log.valor.credito + genero + nivel.educativo + estado.civil + edad.disc + pago.sep + pago.ago + \n",
    "                   pago.jul + pago.jun + pago.may + pago.abr + factura.sep + factura.ago + factura.jul + factura.jun + \n",
    "                   factura.may + factura.abr + pagado.sep + pagado.ago + pagado.jul + pagado.jun + pagado.may + pagado.abr, \n",
    "                   data = setA, \n",
    "                   trControl = control, \n",
    "                   metric = 'FB',\n",
    "                   method = 'knn',\n",
    "                   preProcess = c('center', 'scale', 'nzv'),\n",
    "                   tuneGrid = expand.grid(k = seq(3, 13, by = 2)))"
   ]
  },
  {
   "cell_type": "code",
   "execution_count": 91,
   "metadata": {
    "scrolled": true
   },
   "outputs": [
    {
     "data": {
      "text/plain": [
       "$Matrix\n",
       "           \n",
       "predictions     0     1\n",
       "          0 73.88 14.12\n",
       "          1  3.86  8.14\n",
       "\n",
       "$Accuracy\n",
       "[1] 0.8202\n",
       "\n",
       "$Sensitivity\n",
       "[1] 0.3656783\n",
       "\n",
       "$F3_Measure\n",
       "[1] 0.3871316\n"
      ]
     },
     "metadata": {},
     "output_type": "display_data"
    }
   ],
   "source": [
    "result.summary(model.knn)\n",
    "\n",
    "#Los resultados de kNN muestran un incremento en la sensibilidad con respecto a lo evaluado en la regresión logística.\n",
    "#Se observa que los resultados en precisión son muy similares entre los modelos evaluados.\n",
    "#Hasta ahora, kNN es la mejor alternativa ya que es un modelo relativamente fácil de explicar y ha presentado los mejores resultados.\n"
   ]
  },
  {
   "cell_type": "code",
   "execution_count": 94,
   "metadata": {},
   "outputs": [
    {
     "name": "stderr",
     "output_type": "stream",
     "text": [
      "Warning message in nominalTrainWorkflow(x = x, y = y, wts = weights, info = trainInfo, :\n",
      "\"There were missing values in resampled performance measures.\""
     ]
    }
   ],
   "source": [
    "#Árboles de Decisión\n",
    "#install.packages('rpart')\n",
    "model.tree <- train(default ~ log.valor.credito + genero + nivel.educativo + estado.civil + edad.disc + pago.sep + pago.ago + \n",
    "                   pago.jul + pago.jun + pago.may + pago.abr + factura.sep + factura.ago + factura.jul + factura.jun + \n",
    "                   factura.may + factura.abr + pagado.sep + pagado.ago + pagado.jul + pagado.jun + pagado.may + pagado.abr, \n",
    "                   data = setA, \n",
    "                   trControl = control, \n",
    "                   metric = 'FB',\n",
    "                   method = 'rpart',\n",
    "                   preProcess = c('nzv'))"
   ]
  },
  {
   "cell_type": "code",
   "execution_count": 95,
   "metadata": {},
   "outputs": [
    {
     "data": {
      "text/plain": [
       "$Matrix\n",
       "           \n",
       "predictions     0     1\n",
       "          0 77.74 22.26\n",
       "          1  0.00  0.00\n",
       "\n",
       "$Accuracy\n",
       "[1] 0.7774\n",
       "\n",
       "$Sensitivity\n",
       "[1] 0\n",
       "\n",
       "$F3_Measure\n",
       "[1] 0\n"
      ]
     },
     "metadata": {},
     "output_type": "display_data"
    }
   ],
   "source": [
    "result.summary(model.tree)\n",
    "\n",
    "#El árbol de decisión clasificó todas las observaciones en la categoría 0, indicando que nadie caería en default.\n",
    "#Esto causó una sensibilidad de 0, lo cual es completamente inaceptable para la compañía, haciendo que este modelo sea inútil."
   ]
  },
  {
   "cell_type": "code",
   "execution_count": 96,
   "metadata": {},
   "outputs": [
    {
     "name": "stderr",
     "output_type": "stream",
     "text": [
      "Loading required package: fastAdaboost\n"
     ]
    }
   ],
   "source": [
    "#Adaptive Boosting\n",
    "#install.packages('fastAdaboost')\n",
    "model.adaboost <- train(default ~ log.valor.credito + genero + nivel.educativo + estado.civil + edad.disc + pago.sep + pago.ago + \n",
    "                        pago.jul + pago.jun + pago.may + pago.abr + factura.sep + factura.ago + factura.jul + factura.jun + \n",
    "                        factura.may + factura.abr + pagado.sep + pagado.ago + pagado.jul + pagado.jun + pagado.may + pagado.abr, \n",
    "                        data = setA, \n",
    "                        trControl = control, \n",
    "                        metric = 'FB',\n",
    "                        method = 'adaboost',\n",
    "                        preProcess = c('nzv'))"
   ]
  },
  {
   "cell_type": "code",
   "execution_count": 97,
   "metadata": {},
   "outputs": [
    {
     "data": {
      "text/plain": [
       "$Matrix\n",
       "           \n",
       "predictions     0     1\n",
       "          0 73.76 16.99\n",
       "          1  3.98  5.27\n",
       "\n",
       "$Accuracy\n",
       "[1] 0.7903\n",
       "\n",
       "$Sensitivity\n",
       "[1] 0.2367475\n",
       "\n",
       "$F3_Measure\n",
       "[1] 0.2545791\n"
      ]
     },
     "metadata": {},
     "output_type": "display_data"
    }
   ],
   "source": [
    "result.summary(model.adaboost)\n",
    "\n",
    "#Sorprendentemente, el Adaptive Boosting muestra unos resultados peores a los de los modelos explorados anteriormente, \n",
    "#Esto da evidencia de que quizás para este problema en específico los modelos basados en árboles no sean la mejor opción."
   ]
  },
  {
   "cell_type": "code",
   "execution_count": 98,
   "metadata": {},
   "outputs": [
    {
     "name": "stderr",
     "output_type": "stream",
     "text": [
      "Loading required package: kernlab\n",
      "\n",
      "Attaching package: 'kernlab'\n",
      "\n",
      "The following object is masked from 'package:ggplot2':\n",
      "\n",
      "    alpha\n",
      "\n"
     ]
    }
   ],
   "source": [
    "#Radial-based Support Vector Machine\n",
    "model.rbsvm <- train(default ~ log.valor.credito + genero + nivel.educativo + estado.civil + edad.disc + pago.sep + pago.ago + \n",
    "                     pago.jul + pago.jun + pago.may + pago.abr + factura.sep + factura.ago + factura.jul + factura.jun + \n",
    "                     factura.may + factura.abr + pagado.sep + pagado.ago + pagado.jul + pagado.jun + pagado.may + pagado.abr, \n",
    "                     data = setA, \n",
    "                     trControl = control, \n",
    "                     metric = 'FB',\n",
    "                     method = 'svmRadial',\n",
    "                     preProcess = c('nzv'))"
   ]
  },
  {
   "cell_type": "code",
   "execution_count": 99,
   "metadata": {},
   "outputs": [
    {
     "data": {
      "text/plain": [
       "$Matrix\n",
       "           \n",
       "predictions     0     1\n",
       "          0 74.84 15.31\n",
       "          1  2.90  6.95\n",
       "\n",
       "$Accuracy\n",
       "[1] 0.8179\n",
       "\n",
       "$Sensitivity\n",
       "[1] 0.3122192\n",
       "\n",
       "$F3_Measure\n",
       "[1] 0.3327948\n"
      ]
     },
     "metadata": {},
     "output_type": "display_data"
    }
   ],
   "source": [
    "result.summary(model.rbsvm)\n",
    "\n",
    "#Los resultados de la máquina de vector soporte no son lo suficientemente buenos comparados con los resultados de knn.\n",
    "#Esto indica que la verdadera frontera de separación sea altamente compleja. \n",
    "#Es posible que falten más variables para realizar la separación del espacio, por lo cual hasta el momento la conclusión\n",
    "#será que \"hasta aquí llegan los datos\"."
   ]
  },
  {
   "cell_type": "markdown",
   "metadata": {},
   "source": [
    "## Comparación entre Metodologías"
   ]
  },
  {
   "cell_type": "markdown",
   "metadata": {},
   "source": [
    "Se inició revisando los resultados de **OneR**, para ser utilizados como \"benchmark\" a la hora de descartar modelos.\n",
    "\n",
    "Se probó un modelo lineal, la **Regresión Logística**, la cual obtuvo mejores resultados que **OneR**.\n",
    "\n",
    "También se probó la metodología de **kNN** o **k-Vecinos más cercanos**, la cual obtuvo los mejores resultados en precisión y sensibilidad, superando también a las **Máquinas de vector soporte con kernel radial**.\n",
    "\n",
    "Los modelos basados en árboles, específicamente **Árboles de Decisión** y **Adaptive Boosting** mostraron resultados peores que OneR, indicando que este tipo de algoritmos no eran los más adecuados para el problema.\n",
    "\n",
    "Se concluye que la verdadera frontera de separación tiene una forma muy compleja en el espacio característico utilizado, por lo cual se recomienda a la empresa conseguir más variables que se puedan utilizar para encontrar una mejor frontera en espacios de más variables. Por el momento se recomienda la utilización del modelo basado en vecinos más cercanos.\n",
    "\n",
    "No se logró llegar a la sensibilidad de 75% esperada por la empresa, pero se espera que un futuro, con más datos y más variables se pueda mejorar esta métrica."
   ]
  }
 ],
 "metadata": {
  "kernelspec": {
   "display_name": "R",
   "language": "R",
   "name": "ir"
  },
  "language_info": {
   "codemirror_mode": "r",
   "file_extension": ".r",
   "mimetype": "text/x-r-source",
   "name": "R",
   "pygments_lexer": "r",
   "version": "3.4.3"
  }
 },
 "nbformat": 4,
 "nbformat_minor": 2
}
